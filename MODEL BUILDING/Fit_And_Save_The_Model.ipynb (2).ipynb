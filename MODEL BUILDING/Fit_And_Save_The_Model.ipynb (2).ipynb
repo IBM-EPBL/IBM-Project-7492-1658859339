{
  "cells": [
    {
      "cell_type": "markdown",
      "source": [
        "Real-Time Communication System Powered By AI For Specially Abled"
      ],
      "metadata": {
        "id": "bmJsxBUN39Yf"
      }
    },
    {
      "cell_type": "markdown",
      "source": [
        "Loading the Dataset & Image Data Generation"
      ],
      "metadata": {
        "id": "0q8uCDph4Vfx"
      }
    },
    {
      "cell_type": "code",
      "source": [
        "from tensorflow.keras.preprocessing.image import ImageDataGenerator"
      ],
      "metadata": {
        "id": "VrMIYuTT4aqT"
      },
      "execution_count": null,
      "outputs": []
    },
    {
      "cell_type": "code",
      "source": [
        "# Training Datagen\n",
        "train_datagen = ImageDataGenerator(rescale=1/255,zoom_range=0.2,horizontal_flip=True,vertical_flip=False)\n",
        "# Testing Datagen\n",
        "test_datagen = ImageDataGenerator(rescale=1/255)"
      ],
      "metadata": {
        "id": "MyCtRXhn4ieU"
      },
      "execution_count": 37,
      "outputs": []
    },
    {
      "cell_type": "code",
      "source": [
        "# Training Dataset\n",
        "x_train=train_datagen.flow_from_directory(r'/content/drive/MyDrive/ibm/Dataset/training_set',target_size=(64,64), class_mode='categorical',batch_size=900)\n",
        "# Testing Dataset\n",
        "x_test=test_datagen.flow_from_directory(r'/content/drive/MyDrive/ibm/Dataset/test_set',target_size=(64,64), class_mode='categorical',batch_size=900)"
      ],
      "metadata": {
        "colab": {
          "base_uri": "https://localhost:8080/"
        },
        "id": "QiKz2Xkx4sHp",
        "outputId": "e4a10360-babe-4e6d-a9ac-79b7cfa83699"
      },
      "execution_count": 38,
      "outputs": [
        {
          "output_type": "stream",
          "name": "stdout",
          "text": [
            "Found 5630 images belonging to 9 classes.\n",
            "Found 2243 images belonging to 9 classes.\n"
          ]
        }
      ]
    },
    {
      "cell_type": "code",
      "source": [
        "print(\"Len x-train : \", len(x_train))\n",
        "print(\"Len x-test : \", len(x_test))"
      ],
      "metadata": {
        "colab": {
          "base_uri": "https://localhost:8080/"
        },
        "id": "wtEpdxM55JmW",
        "outputId": "cab05a8c-adb6-4ab1-89b3-0a035a334ffc"
      },
      "execution_count": 39,
      "outputs": [
        {
          "output_type": "stream",
          "name": "stdout",
          "text": [
            "Len x-train :  7\n",
            "Len x-test :  3\n"
          ]
        }
      ]
    },
    {
      "cell_type": "code",
      "source": [
        "# The Class Indices in Training Dataset\n",
        "x_train.class_indices"
      ],
      "metadata": {
        "colab": {
          "base_uri": "https://localhost:8080/"
        },
        "id": "CWWlM8hJ5Onp",
        "outputId": "95b25bcd-a0d1-4a6d-90d5-622e64744551"
      },
      "execution_count": 40,
      "outputs": [
        {
          "output_type": "execute_result",
          "data": {
            "text/plain": [
              "{'A': 0, 'B': 1, 'C': 2, 'D': 3, 'E': 4, 'F': 5, 'G': 6, 'H': 7, 'I': 8}"
            ]
          },
          "metadata": {},
          "execution_count": 40
        }
      ]
    },
    {
      "cell_type": "markdown",
      "source": [
        "Model Creation"
      ],
      "metadata": {
        "id": "1Gt2LvvX5Ttb"
      }
    },
    {
      "cell_type": "code",
      "source": [
        "# Importing Libraries\n",
        "from tensorflow.keras.models import Sequential\n",
        "from tensorflow.keras.layers import Convolution2D,MaxPooling2D,Flatten,Dense"
      ],
      "metadata": {
        "id": "6_9sx1zT5aZV"
      },
      "execution_count": 41,
      "outputs": []
    },
    {
      "cell_type": "code",
      "source": [
        "# Creating Model\n",
        "model=Sequential()"
      ],
      "metadata": {
        "id": "F-EkYJjm5fmz"
      },
      "execution_count": 42,
      "outputs": []
    },
    {
      "cell_type": "code",
      "source": [
        "# Adding Layers\n",
        "model.add(Convolution2D(32,(3,3),activation='relu',input_shape=(64,64,3)))"
      ],
      "metadata": {
        "id": "hkUur9Uv5i26"
      },
      "execution_count": 43,
      "outputs": []
    },
    {
      "cell_type": "code",
      "source": [
        "model.add(MaxPooling2D(pool_size=(2,2)))"
      ],
      "metadata": {
        "id": "gtMK-fgD5nBp"
      },
      "execution_count": 44,
      "outputs": []
    },
    {
      "cell_type": "code",
      "source": [
        "model.add(Flatten())"
      ],
      "metadata": {
        "id": "d3Y6_vLd5qeK"
      },
      "execution_count": 45,
      "outputs": []
    },
    {
      "cell_type": "code",
      "source": [
        "# Adding Dense Layers\n",
        "model.add(Dense(300,activation='relu'))\n",
        "model.add(Dense(150,activation='relu'))\n",
        "model.add(Dense(9,activation='softmax'))"
      ],
      "metadata": {
        "id": "MpfzduES5xzL"
      },
      "execution_count": 46,
      "outputs": []
    },
    {
      "cell_type": "code",
      "source": [
        "# Compiling the Model\n",
        "model.compile(loss='categorical_crossentropy',optimizer='adam',metrics=['accuracy'])"
      ],
      "metadata": {
        "id": "BNDwbyVO6ECn"
      },
      "execution_count": 47,
      "outputs": []
    },
    {
      "cell_type": "code",
      "source": [
        "# Fitting the Model Generator\n",
        "model.fit_generator(x_train,steps_per_epoch=len(x_train),epochs=10,validation_data=x_test,validation_steps=len(x_test))"
      ],
      "metadata": {
        "colab": {
          "base_uri": "https://localhost:8080/"
        },
        "id": "08N_Cnee6M42",
        "outputId": "5c69b9b0-8642-41a0-e176-866d56294708"
      },
      "execution_count": 48,
      "outputs": [
        {
          "metadata": {
            "tags": null
          },
          "name": "stderr",
          "output_type": "stream",
          "text": [
            "/usr/local/lib/python3.7/dist-packages/ipykernel_launcher.py:2: UserWarning: `Model.fit_generator` is deprecated and will be removed in a future version. Please use `Model.fit`, which supports generators.\n",
            "  \n"
          ]
        },
        {
          "output_type": "stream",
          "name": "stdout",
          "text": [
            "Epoch 1/10\n",
            "7/7 [==============================] - 2158s 315s/step - loss: 1.7632 - accuracy: 0.5052 - val_loss: 5.8968 - val_accuracy: 0.2225\n",
            "Epoch 2/10\n",
            "7/7 [==============================] - 33s 4s/step - loss: 0.3703 - accuracy: 0.8764 - val_loss: 5.2908 - val_accuracy: 0.3968\n",
            "Epoch 3/10\n",
            "7/7 [==============================] - 30s 4s/step - loss: 0.1486 - accuracy: 0.9544 - val_loss: 6.3171 - val_accuracy: 0.4356\n",
            "Epoch 4/10\n",
            "7/7 [==============================] - 32s 4s/step - loss: 0.0645 - accuracy: 0.9881 - val_loss: 7.0086 - val_accuracy: 0.4378\n",
            "Epoch 5/10\n",
            "7/7 [==============================] - 30s 5s/step - loss: 0.0339 - accuracy: 0.9925 - val_loss: 7.6021 - val_accuracy: 0.4356\n",
            "Epoch 6/10\n",
            "7/7 [==============================] - 31s 4s/step - loss: 0.0155 - accuracy: 0.9963 - val_loss: 8.2088 - val_accuracy: 0.4320\n",
            "Epoch 7/10\n",
            "7/7 [==============================] - 30s 4s/step - loss: 0.0101 - accuracy: 0.9982 - val_loss: 8.6118 - val_accuracy: 0.4387\n",
            "Epoch 8/10\n",
            "7/7 [==============================] - 32s 4s/step - loss: 0.0053 - accuracy: 0.9993 - val_loss: 8.9537 - val_accuracy: 0.4387\n",
            "Epoch 9/10\n",
            "7/7 [==============================] - 34s 4s/step - loss: 0.0041 - accuracy: 0.9995 - val_loss: 9.2675 - val_accuracy: 0.4387\n",
            "Epoch 10/10\n",
            "7/7 [==============================] - 30s 5s/step - loss: 0.0024 - accuracy: 0.9998 - val_loss: 9.5807 - val_accuracy: 0.4391\n"
          ]
        },
        {
          "output_type": "execute_result",
          "data": {
            "text/plain": [
              "<keras.callbacks.History at 0x7f2ce5dd7e10>"
            ]
          },
          "metadata": {},
          "execution_count": 48
        }
      ]
    },
    {
      "cell_type": "markdown",
      "source": [
        "Saving the Model"
      ],
      "metadata": {
        "id": "n87X6T4R6UXq"
      }
    },
    {
      "cell_type": "code",
      "source": [
        "model.save('asl_model_84_54.h5')"
      ],
      "metadata": {
        "id": "1TrIqxIm6Rq5"
      },
      "execution_count": 49,
      "outputs": []
    }
  ],
  "metadata": {
    "colab": {
      "name": "Welcome To Colaboratory",
      "provenance": []
    },
    "kernelspec": {
      "display_name": "Python 3",
      "name": "python3"
    }
  },
  "nbformat": 4,
  "nbformat_minor": 0
}